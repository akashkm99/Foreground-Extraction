{
 "cells": [
  {
   "cell_type": "markdown",
   "metadata": {},
   "source": [
    "## Solution For The Exercise in Foreground Extraction / Background subtraction\n",
    "---"
   ]
  },
  {
   "cell_type": "code",
   "execution_count": 1,
   "metadata": {
    "collapsed": true
   },
   "outputs": [],
   "source": [
    "import numpy as np\n",
    "import cv2\n",
    "\n",
    "cap = cv2.VideoCapture('vtest.avi') \n",
    "\n",
    "#For opencv 3.x ,Remember you must have opencv contrib installed.\n",
    "fgbg = cv2.bgsegm.createBackgroundSubtractorMOG()\n",
    "\n",
    "#For opencv 2.x\n",
    "#fgbg = cv2.createBackgroundSubtractorMOG()\n",
    "while(1):\n",
    "  ret, frame = cap.read()   #reading the video frame by frame\n",
    "  if ret == 0:\n",
    "    break\n",
    "  fgmask = fgbg.apply(frame)  #obtaining the foreground mask\n",
    "  \n",
    "    \n",
    "  ############################################################################\n",
    "  #                              Solution                                    #\n",
    "  \n",
    "  median = cv2.medianBlur(fgmask,5)  #median blur\n",
    "  kernel = np.ones((5,5),np.uint8)\n",
    "  dilation = cv2.dilate(median,kernel,iterations= 3)  #dilating thrice\n",
    "  ret,thresh = cv2.threshold(dilation,127,255,0)  #a binary image is req. to find contours\n",
    "  image,contours, hierarchy = cv2.findContours(thresh,cv2.RETR_TREE,cv2.CHAIN_APPROX_SIMPLE)\n",
    "  frame = cv2.drawContours(frame, contours, -1, (0,255,0), 1) #drawing the obtained contours\n",
    "   \n",
    "  for i in contours:\n",
    "   if cv2.contourArea(i) > 500 and cv2.contourArea(i) < 90000:  #thresholding based on contour area to remove noise\n",
    "     x,y,w,h = cv2.boundingRect(i)\n",
    "     frame = cv2.rectangle(frame,(x,y),(x+w,y+h),(255,0,0),2)  #drawing the obtained rectangle\n",
    "   \n",
    "  #                             END OF Solution                              #\n",
    "  ############################################################################\n",
    "\n",
    "\n",
    "  cv2.imshow('frame',frame)\n",
    "  k = cv2.waitKey(1) & 0xff\n",
    "  if k == 27:\n",
    "    break \n",
    "cap.release()\n",
    "cv2.destroyAllWindows()"
   ]
  },
  {
   "cell_type": "code",
   "execution_count": null,
   "metadata": {
    "collapsed": true
   },
   "outputs": [],
   "source": []
  }
 ],
 "metadata": {
  "kernelspec": {
   "display_name": "Python 2",
   "language": "python",
   "name": "python2"
  },
  "language_info": {
   "codemirror_mode": {
    "name": "ipython",
    "version": 2
   },
   "file_extension": ".py",
   "mimetype": "text/x-python",
   "name": "python",
   "nbconvert_exporter": "python",
   "pygments_lexer": "ipython2",
   "version": "2.7.12"
  }
 },
 "nbformat": 4,
 "nbformat_minor": 2
}
